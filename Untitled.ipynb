{
 "cells": [
  {
   "cell_type": "code",
   "execution_count": 1,
   "metadata": {},
   "outputs": [],
   "source": [
    "import torch"
   ]
  },
  {
   "cell_type": "code",
   "execution_count": 7,
   "metadata": {},
   "outputs": [],
   "source": [
    "import os"
   ]
  },
  {
   "cell_type": "code",
   "execution_count": 2,
   "metadata": {},
   "outputs": [],
   "source": [
    "import glob"
   ]
  },
  {
   "cell_type": "code",
   "execution_count": 5,
   "metadata": {},
   "outputs": [],
   "source": [
    "fns = glob.glob('./saves/fc5/mnist/*.pth.tar')"
   ]
  },
  {
   "cell_type": "code",
   "execution_count": 6,
   "metadata": {},
   "outputs": [
    {
     "name": "stdout",
     "output_type": "stream",
     "text": [
      "['./saves/fc5/mnist/2_model_lt.pth.tar', './saves/fc5/mnist/initial_state_dict_lt.pth.tar', './saves/fc5/mnist/8_model_lt.pth.tar', './saves/fc5/mnist/6_model_lt.pth.tar', './saves/fc5/mnist/4_model_lt.pth.tar', './saves/fc5/mnist/7_model_lt.pth.tar', './saves/fc5/mnist/9_model_lt.pth.tar', './saves/fc5/mnist/3_model_lt.pth.tar', './saves/fc5/mnist/5_model_lt.pth.tar', './saves/fc5/mnist/1_model_lt.pth.tar', './saves/fc5/mnist/0_model_lt.pth.tar']\n"
     ]
    }
   ],
   "source": [
    "print(fns)"
   ]
  },
  {
   "cell_type": "code",
   "execution_count": 9,
   "metadata": {},
   "outputs": [],
   "source": [
    "for fn in fns:\n",
    "    basename = os.path.basename(fn).split('.')[0]\n",
    "    a = torch.load(fn)\n",
    "    torch.save(a.state_dict(), os.path.join('mlp5_mnist_state_dict_ckpts', basename + '.tar.pth'))"
   ]
  },
  {
   "cell_type": "code",
   "execution_count": 3,
   "metadata": {},
   "outputs": [],
   "source": [
    "a = torch.load('./saves/fc5/mnist/0_model_lt.pth.tar')"
   ]
  },
  {
   "cell_type": "code",
   "execution_count": 4,
   "metadata": {},
   "outputs": [
    {
     "data": {
      "text/plain": [
       "archs.mnist.fc5.fc5"
      ]
     },
     "execution_count": 4,
     "metadata": {},
     "output_type": "execute_result"
    }
   ],
   "source": [
    "type(a)"
   ]
  },
  {
   "cell_type": "code",
   "execution_count": null,
   "metadata": {},
   "outputs": [],
   "source": []
  }
 ],
 "metadata": {
  "kernelspec": {
   "display_name": "Python 3",
   "language": "python",
   "name": "python3"
  },
  "language_info": {
   "codemirror_mode": {
    "name": "ipython",
    "version": 3
   },
   "file_extension": ".py",
   "mimetype": "text/x-python",
   "name": "python",
   "nbconvert_exporter": "python",
   "pygments_lexer": "ipython3",
   "version": "3.7.5"
  }
 },
 "nbformat": 4,
 "nbformat_minor": 4
}
